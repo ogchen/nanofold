{
 "cells": [
  {
   "cell_type": "code",
   "execution_count": null,
   "metadata": {},
   "outputs": [],
   "source": [
    "%load_ext autoreload\n",
    "%autoreload 2\n",
    "\n",
    "%pip install nglview ase\n",
    "\n",
    "import sys\n",
    "sys.path.append('..')\n"
   ]
  },
  {
   "cell_type": "code",
   "execution_count": null,
   "metadata": {},
   "outputs": [],
   "source": [
    "import json\n",
    "import urllib.request\n",
    "\n",
    "# Download the model weights\n",
    "weights_url = \"http://localhost:8000/get-artifact?path=checkpoints%2Fcheckpoint_7600&run_uuid=4a7df87277824ffba36ec8477abf5be5\"\n",
    "weights_file = \"model.pt\"\n",
    "urllib.request.urlretrieve(weights_url, weights_file)\n",
    "\n",
    "# Load model config (TODO - shift to storing this in the model.pt file or downloading separately)\n",
    "with open(\"../config/config.json\") as f:\n",
    "    config = json.load(f)"
   ]
  },
  {
   "cell_type": "code",
   "execution_count": null,
   "metadata": {},
   "outputs": [],
   "source": [
    "import torch\n",
    "from nanofold.train.model import Nanofold\n",
    "\n",
    "model = Nanofold(**Nanofold.get_args(config), inference=True)\n",
    "model.load_state_dict(torch.load(weights_file)[\"model\"])"
   ]
  },
  {
   "cell_type": "code",
   "execution_count": null,
   "metadata": {},
   "outputs": [],
   "source": [
    "import torch\n",
    "from nanofold.train.chain_dataset import encode_one_hot\n",
    "from nanofold.train.chain_dataset import get_reference_features\n",
    "from nanofold.common.residue_definitions import RESIDUE_INDEX_MSA\n",
    "\n",
    "sequence = \"FTLYPYDTNYLIYTQTSDLNKEAIASYDWAENARKDEVKFQLSLAFPLWRGILGPNSVLGASYTQKSWWQLSNSEESSPFRETNYEPQLFLGFATD\"\n",
    "residue_index = torch.arange(len(sequence))\n",
    "features = {\n",
    "    **get_reference_features(sequence, residue_index),\n",
    "    \"template_restype\": torch.empty(0, len(sequence), len(RESIDUE_INDEX_MSA)),\n",
    "    \"template_backbone_frame_mask\": torch.empty(0, len(sequence), 3),\n",
    "    \"template_distogram\": torch.empty(0, len(sequence), 37),\n",
    "    \"template_unit_vector\": torch.empty(0, len(sequence), 3),\n",
    "}\n",
    "\n",
    "from pathlib import Path\n",
    "from nanofold.preprocess.ipc import get_msa_features\n",
    "from nanofold.common.msa_metadata import COMPRESSED_MSA_FIELDS\n",
    "sparse_msa_features = get_msa_features(Path(\"./\"), {\"_id\": {\"structure_id\": \"1qd6\", \"chain_id\": \"C\"}})\n",
    "for msa_field in COMPRESSED_MSA_FIELDS:\n",
    "    sparse_matrix = torch.sparse_coo_tensor(\n",
    "        sparse_msa_features[f\"{msa_field}_coords\"],\n",
    "        sparse_msa_features[f\"{msa_field}_data\"],\n",
    "        sparse_msa_features[f\"{msa_field}_shape\"],\n",
    "    )\n",
    "    dense_matrix = (\n",
    "        torch.stack([sparse_matrix[i] for i in residue_index])\n",
    "        .to_dense()\n",
    "        .reshape(len(sequence), -1, COMPRESSED_MSA_FIELDS[msa_field].feat_size)\n",
    "        .transpose(0, 1)\n",
    "    )\n",
    "    if msa_field == \"msa\":\n",
    "        features[\"profile\"] = dense_matrix.mean(dim=-3)\n",
    "    if msa_field == \"deletion_value\":\n",
    "        features[\"deletion_mean\"] = dense_matrix.mean(dim=-3).squeeze()\n",
    "    features[msa_field] = dense_matrix[:1024]"
   ]
  },
  {
   "cell_type": "code",
   "execution_count": null,
   "metadata": {},
   "outputs": [],
   "source": [
    "model.eval()\n",
    "with torch.no_grad():\n",
    "    coords = model(features)"
   ]
  },
  {
   "cell_type": "code",
   "execution_count": null,
   "metadata": {},
   "outputs": [],
   "source": [
    "import nglview as nv\n",
    "from nanofold.inference.structure import coords_to_bio_structure\n",
    "\n",
    "nv.show_biopython(coords_to_bio_structure(sequence, coords))"
   ]
  },
  {
   "cell_type": "code",
   "execution_count": null,
   "metadata": {},
   "outputs": [],
   "source": [
    "from ase import Atom, Atoms\n",
    "\n",
    "from nanofold.common.residue_definitions import get_3l_res_name\n",
    "from nanofold.common.residue_definitions import BACKBONE_POSITIONS\n",
    "\n",
    "formula = \"\"\n",
    "positions = []\n",
    "atoms = []\n",
    "scale_factor = 0.19\n",
    "for i, r in enumerate(sequence):\n",
    "    res_name = get_3l_res_name(r)\n",
    "    for meta, c in zip(BACKBONE_POSITIONS[res_name], scale_factor * (coords[i] - coords.reshape(-1, 3).mean(dim=0))):\n",
    "        symbol = meta[0] if meta[0] != \"CA\" else \"C\"\n",
    "        atoms.append(Atom(symbol, c))\n",
    "        formula += symbol\n",
    "        positions.append(c)\n",
    "nv.show_ase(Atoms(formula, positions=positions))"
   ]
  }
 ],
 "metadata": {
  "kernelspec": {
   "display_name": "Python 3 (ipykernel)",
   "language": "python",
   "name": "python3"
  },
  "language_info": {
   "codemirror_mode": {
    "name": "ipython",
    "version": 3
   },
   "file_extension": ".py",
   "mimetype": "text/x-python",
   "name": "python",
   "nbconvert_exporter": "python",
   "pygments_lexer": "ipython3",
   "version": "3.11.9"
  }
 },
 "nbformat": 4,
 "nbformat_minor": 4
}
